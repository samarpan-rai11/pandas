{
 "cells": [
  {
   "cell_type": "code",
   "execution_count": 12,
   "id": "1d96e1d3",
   "metadata": {},
   "outputs": [],
   "source": [
    "import numpy as np\n",
    "import pandas as pd"
   ]
  },
  {
   "cell_type": "code",
   "execution_count": 13,
   "id": "be1e2a2d",
   "metadata": {},
   "outputs": [],
   "source": [
    "delivery = pd.read_csv('deliveries.csv')"
   ]
  },
  {
   "cell_type": "code",
   "execution_count": 121,
   "id": "af976b37",
   "metadata": {},
   "outputs": [
    {
     "data": {
      "text/html": [
       "<div>\n",
       "<style scoped>\n",
       "    .dataframe tbody tr th:only-of-type {\n",
       "        vertical-align: middle;\n",
       "    }\n",
       "\n",
       "    .dataframe tbody tr th {\n",
       "        vertical-align: top;\n",
       "    }\n",
       "\n",
       "    .dataframe thead th {\n",
       "        text-align: right;\n",
       "    }\n",
       "</style>\n",
       "<table border=\"1\" class=\"dataframe\">\n",
       "  <thead>\n",
       "    <tr style=\"text-align: right;\">\n",
       "      <th></th>\n",
       "      <th>match_id</th>\n",
       "      <th>inning</th>\n",
       "      <th>batting_team</th>\n",
       "      <th>bowling_team</th>\n",
       "      <th>over</th>\n",
       "      <th>ball</th>\n",
       "      <th>batsman</th>\n",
       "      <th>non_striker</th>\n",
       "      <th>bowler</th>\n",
       "      <th>is_super_over</th>\n",
       "      <th>...</th>\n",
       "      <th>bye_runs</th>\n",
       "      <th>legbye_runs</th>\n",
       "      <th>noball_runs</th>\n",
       "      <th>penalty_runs</th>\n",
       "      <th>batsman_runs</th>\n",
       "      <th>extra_runs</th>\n",
       "      <th>total_runs</th>\n",
       "      <th>player_dismissed</th>\n",
       "      <th>dismissal_kind</th>\n",
       "      <th>fielder</th>\n",
       "    </tr>\n",
       "  </thead>\n",
       "  <tbody>\n",
       "    <tr>\n",
       "      <th>0</th>\n",
       "      <td>1</td>\n",
       "      <td>1</td>\n",
       "      <td>Sunrisers Hyderabad</td>\n",
       "      <td>Royal Challengers Bangalore</td>\n",
       "      <td>1</td>\n",
       "      <td>1</td>\n",
       "      <td>DA Warner</td>\n",
       "      <td>S Dhawan</td>\n",
       "      <td>TS Mills</td>\n",
       "      <td>0</td>\n",
       "      <td>...</td>\n",
       "      <td>0</td>\n",
       "      <td>0</td>\n",
       "      <td>0</td>\n",
       "      <td>0</td>\n",
       "      <td>0</td>\n",
       "      <td>0</td>\n",
       "      <td>0</td>\n",
       "      <td>NaN</td>\n",
       "      <td>NaN</td>\n",
       "      <td>NaN</td>\n",
       "    </tr>\n",
       "    <tr>\n",
       "      <th>1</th>\n",
       "      <td>1</td>\n",
       "      <td>1</td>\n",
       "      <td>Sunrisers Hyderabad</td>\n",
       "      <td>Royal Challengers Bangalore</td>\n",
       "      <td>1</td>\n",
       "      <td>2</td>\n",
       "      <td>DA Warner</td>\n",
       "      <td>S Dhawan</td>\n",
       "      <td>TS Mills</td>\n",
       "      <td>0</td>\n",
       "      <td>...</td>\n",
       "      <td>0</td>\n",
       "      <td>0</td>\n",
       "      <td>0</td>\n",
       "      <td>0</td>\n",
       "      <td>0</td>\n",
       "      <td>0</td>\n",
       "      <td>0</td>\n",
       "      <td>NaN</td>\n",
       "      <td>NaN</td>\n",
       "      <td>NaN</td>\n",
       "    </tr>\n",
       "  </tbody>\n",
       "</table>\n",
       "<p>2 rows × 21 columns</p>\n",
       "</div>"
      ],
      "text/plain": [
       "   match_id  inning         batting_team                 bowling_team  over  \\\n",
       "0         1       1  Sunrisers Hyderabad  Royal Challengers Bangalore     1   \n",
       "1         1       1  Sunrisers Hyderabad  Royal Challengers Bangalore     1   \n",
       "\n",
       "   ball    batsman non_striker    bowler  is_super_over  ...  bye_runs  \\\n",
       "0     1  DA Warner    S Dhawan  TS Mills              0  ...         0   \n",
       "1     2  DA Warner    S Dhawan  TS Mills              0  ...         0   \n",
       "\n",
       "   legbye_runs  noball_runs  penalty_runs  batsman_runs  extra_runs  \\\n",
       "0            0            0             0             0           0   \n",
       "1            0            0             0             0           0   \n",
       "\n",
       "   total_runs  player_dismissed dismissal_kind fielder  \n",
       "0           0               NaN            NaN     NaN  \n",
       "1           0               NaN            NaN     NaN  \n",
       "\n",
       "[2 rows x 21 columns]"
      ]
     },
     "execution_count": 121,
     "metadata": {},
     "output_type": "execute_result"
    }
   ],
   "source": [
    "delivery.head(2)"
   ]
  },
  {
   "cell_type": "markdown",
   "id": "7a923aa1",
   "metadata": {},
   "source": [
    "## Grouping DataFrame by Batsman"
   ]
  },
  {
   "cell_type": "code",
   "execution_count": 80,
   "id": "fcf29780",
   "metadata": {},
   "outputs": [],
   "source": [
    "runs = delivery.groupby('batsman')     #grouping by batsman "
   ]
  },
  {
   "cell_type": "markdown",
   "id": "7ea325b5",
   "metadata": {},
   "source": [
    "# Batsman with highest runs in IPL"
   ]
  },
  {
   "cell_type": "code",
   "execution_count": 119,
   "id": "6e5e84d6",
   "metadata": {
    "scrolled": true
   },
   "outputs": [
    {
     "data": {
      "text/plain": [
       "batsman\n",
       "SK Raina          4548\n",
       "V Kohli           4423\n",
       "RG Sharma         4207\n",
       "G Gambhir         4132\n",
       "DA Warner         4014\n",
       "RV Uthappa        3778\n",
       "CH Gayle          3651\n",
       "S Dhawan          3561\n",
       "MS Dhoni          3560\n",
       "AB de Villiers    3486\n",
       "Name: batsman_runs, dtype: int64"
      ]
     },
     "execution_count": 119,
     "metadata": {},
     "output_type": "execute_result"
    }
   ],
   "source": [
    "runs['batsman_runs'].sum().sort_values(ascending=False).head(10)      "
   ]
  },
  {
   "cell_type": "markdown",
   "id": "c08eefec",
   "metadata": {},
   "source": [
    "# Batsman with most 6's in IPL "
   ]
  },
  {
   "cell_type": "code",
   "execution_count": 64,
   "id": "e76dc98b",
   "metadata": {},
   "outputs": [],
   "source": [
    "mask = delivery['batsman_runs'] == 6\n",
    "new_delivery = delivery[mask]"
   ]
  },
  {
   "cell_type": "code",
   "execution_count": 65,
   "id": "8ba9e914",
   "metadata": {},
   "outputs": [
    {
     "data": {
      "text/plain": [
       "6523"
      ]
     },
     "execution_count": 65,
     "metadata": {},
     "output_type": "execute_result"
    }
   ],
   "source": [
    "new_delivery.shape[0]"
   ]
  },
  {
   "cell_type": "code",
   "execution_count": 66,
   "id": "2604b355",
   "metadata": {
    "scrolled": false
   },
   "outputs": [
    {
     "data": {
      "text/plain": [
       "batsman\n",
       "CH Gayle          266\n",
       "SK Raina          174\n",
       "RG Sharma         173\n",
       "V Kohli           160\n",
       "DA Warner         160\n",
       "AB de Villiers    158\n",
       "MS Dhoni          156\n",
       "YK Pathan         149\n",
       "KA Pollard        148\n",
       "Yuvraj Singh      141\n",
       "dtype: int64"
      ]
     },
     "execution_count": 66,
     "metadata": {},
     "output_type": "execute_result"
    }
   ],
   "source": [
    "new_delivery.groupby('batsman').size().sort_values(ascending=False).head(10)"
   ]
  },
  {
   "cell_type": "code",
   "execution_count": 84,
   "id": "76516215",
   "metadata": {},
   "outputs": [
    {
     "data": {
      "text/plain": [
       "batsman\n",
       "CH Gayle          266\n",
       "SK Raina          174\n",
       "RG Sharma         173\n",
       "V Kohli           160\n",
       "DA Warner         160\n",
       "AB de Villiers    158\n",
       "MS Dhoni          156\n",
       "YK Pathan         149\n",
       "KA Pollard        148\n",
       "Yuvraj Singh      141\n",
       "Name: batsman_runs, dtype: int64"
      ]
     },
     "execution_count": 84,
     "metadata": {},
     "output_type": "execute_result"
    }
   ],
   "source": [
    "new_delivery.groupby('batsman')['batsman_runs'].count().sort_values(ascending=False).head(10)"
   ]
  },
  {
   "cell_type": "markdown",
   "id": "2b29bc35",
   "metadata": {},
   "source": [
    "# Most runs against teams scored by a player"
   ]
  },
  {
   "cell_type": "code",
   "execution_count": 15,
   "id": "411ee099",
   "metadata": {},
   "outputs": [],
   "source": [
    "mask2 = delivery['batsman'] == 'KA Pollard'\n",
    "run_team = delivery[mask2]"
   ]
  },
  {
   "cell_type": "code",
   "execution_count": 21,
   "id": "245c7679",
   "metadata": {},
   "outputs": [
    {
     "data": {
      "text/plain": [
       "bowling_team\n",
       "Royal Challengers Bangalore    451\n",
       "Chennai Super Kings            378\n",
       "Delhi Daredevils               304\n",
       "Kings XI Punjab                277\n",
       "Rajasthan Royals               257\n",
       "Sunrisers Hyderabad            224\n",
       "Kolkata Knight Riders          213\n",
       "Gujarat Lions                   74\n",
       "Deccan Chargers                 70\n",
       "Pune Warriors                   55\n",
       "Rising Pune Supergiant          50\n",
       "Rising Pune Supergiants          1\n",
       "Name: batsman_runs, dtype: int64"
      ]
     },
     "execution_count": 21,
     "metadata": {},
     "output_type": "execute_result"
    }
   ],
   "source": [
    "run_team.groupby('bowling_team')['batsman_runs'].sum().sort_values(ascending=False)"
   ]
  },
  {
   "cell_type": "markdown",
   "id": "a04292de",
   "metadata": {},
   "source": [
    "# Function for calculating batsmans most runs against teams"
   ]
  },
  {
   "cell_type": "code",
   "execution_count": 6,
   "id": "bd90ad34",
   "metadata": {},
   "outputs": [],
   "source": [
    "def runs_scored(batsman_name):\n",
    "    mask2 = delivery['batsman'] == batsman_name\n",
    "    run_team = delivery[mask2]\n",
    "    runs = run_team.groupby('bowling_team')['batsman_runs'].sum().sort_values(ascending=False)\n",
    "    return runs"
   ]
  },
  {
   "cell_type": "markdown",
   "id": "c314eac4",
   "metadata": {},
   "source": [
    "## using the function created above to get output of different batsman"
   ]
  },
  {
   "cell_type": "code",
   "execution_count": 115,
   "id": "126dd27f",
   "metadata": {
    "scrolled": false
   },
   "outputs": [
    {
     "data": {
      "text/plain": [
       "bowling_team\n",
       "Delhi Daredevils               140\n",
       "Kolkata Knight Riders           71\n",
       "Royal Challengers Bangalore     55\n",
       "Kings XI Punjab                 54\n",
       "Rising Pune Supergiants         32\n",
       "Chennai Super Kings             26\n",
       "Rising Pune Supergiant          25\n",
       "Gujarat Lions                    6\n",
       "Mumbai Indians                   2\n",
       "Name: batsman_runs, dtype: int64"
      ]
     },
     "execution_count": 115,
     "metadata": {},
     "output_type": "execute_result"
    }
   ],
   "source": [
    "runs_scored('KS Williamson')       \n",
    "\n",
    "#these are the teams that Williamson has most runs against"
   ]
  },
  {
   "cell_type": "code",
   "execution_count": 7,
   "id": "f702bffc",
   "metadata": {
    "scrolled": true
   },
   "outputs": [
    {
     "data": {
      "text/plain": [
       "bowling_team\n",
       "Kings XI Punjab                797\n",
       "Kolkata Knight Riders          532\n",
       "Mumbai Indians                 469\n",
       "Delhi Daredevils               383\n",
       "Pune Warriors                  383\n",
       "Rajasthan Royals               295\n",
       "Chennai Super Kings            277\n",
       "Sunrisers Hyderabad            230\n",
       "Gujarat Lions                  100\n",
       "Royal Challengers Bangalore     74\n",
       "Deccan Chargers                 67\n",
       "Kochi Tuskers Kerala            44\n",
       "Name: batsman_runs, dtype: int64"
      ]
     },
     "execution_count": 7,
     "metadata": {},
     "output_type": "execute_result"
    }
   ],
   "source": [
    "runs_scored(\"CH Gayle\")"
   ]
  },
  {
   "cell_type": "markdown",
   "id": "364e2a53",
   "metadata": {},
   "source": [
    "# isin( ) function"
   ]
  },
  {
   "cell_type": "markdown",
   "id": "896c9cac",
   "metadata": {},
   "source": [
    "we use isin( ) function if there are many conditions doing mask. In this case using isin( ) function will decrease our code line and efficiency"
   ]
  },
  {
   "cell_type": "markdown",
   "id": "f96127b2",
   "metadata": {},
   "source": [
    "### Find the most destructive death over batsman in the history of IPL\n",
    "Min 200 balls in over 16-20"
   ]
  },
  {
   "cell_type": "code",
   "execution_count": 25,
   "id": "132be25a",
   "metadata": {},
   "outputs": [],
   "source": [
    "mask3 = delivery['over']>15\n",
    "death_over = delivery[mask3]"
   ]
  },
  {
   "cell_type": "code",
   "execution_count": 38,
   "id": "4b5d47f0",
   "metadata": {
    "scrolled": false
   },
   "outputs": [],
   "source": [
    "all_batsman = death_over.groupby('batsman')['batsman_runs'].count()\n",
    "x = all_batsman>200\n",
    "batsman_list = all_batsman[x].index.tolist()\n",
    "\n",
    "#when we give boolean value to variable it will only give values that are true like in this case of all_batsman[x]"
   ]
  },
  {
   "cell_type": "code",
   "execution_count": 47,
   "id": "d77a228f",
   "metadata": {},
   "outputs": [
    {
     "name": "stderr",
     "output_type": "stream",
     "text": [
      "/var/folders/bt/tptysj9x3m30xxwnwd_mxpww0000gn/T/ipykernel_87755/619725301.py:1: UserWarning: Boolean Series key will be reindexed to match DataFrame index.\n",
      "  final = death_over[delivery['batsman'].isin(batsman_list)]\n"
     ]
    }
   ],
   "source": [
    "final = death_over[delivery['batsman'].isin(batsman_list)]"
   ]
  },
  {
   "cell_type": "code",
   "execution_count": 50,
   "id": "e481b5ca",
   "metadata": {},
   "outputs": [],
   "source": [
    "runs = final.groupby('batsman')['batsman_runs'].sum()     #total runs scored in death over"
   ]
  },
  {
   "cell_type": "code",
   "execution_count": 58,
   "id": "71afc052",
   "metadata": {},
   "outputs": [],
   "source": [
    "balls = final.groupby('batsman')['batsman_runs'].count()     #total balls faced in death over"
   ]
  },
  {
   "cell_type": "code",
   "execution_count": 53,
   "id": "cd9106fe",
   "metadata": {},
   "outputs": [],
   "source": [
    "sr = (runs/balls)*100   #Strike Rate"
   ]
  },
  {
   "cell_type": "markdown",
   "id": "ce030db7",
   "metadata": {},
   "source": [
    "## Highest Strike Rate in death overs of IPL (over 200 balls faced by batsman)"
   ]
  },
  {
   "cell_type": "code",
   "execution_count": 57,
   "id": "3a16e31f",
   "metadata": {
    "scrolled": false
   },
   "outputs": [
    {
     "data": {
      "text/plain": [
       "batsman\n",
       "AB de Villiers      211.052632\n",
       "DA Warner           189.473684\n",
       "DA Miller           186.666667\n",
       "V Kohli             181.868132\n",
       "RG Sharma           175.668449\n",
       "DJ Hussey           175.213675\n",
       "RV Uthappa          173.454545\n",
       "Yuvraj Singh        171.124031\n",
       "JH Kallis           170.562771\n",
       "MS Dhoni            169.607843\n",
       "SPD Smith           169.303797\n",
       "JP Duminy           167.760618\n",
       "DJ Bravo            167.726161\n",
       "SK Raina            167.467249\n",
       "AT Rayudu           165.411765\n",
       "WP Saha             163.389831\n",
       "KA Pollard          161.336516\n",
       "YK Pathan           159.246575\n",
       "S Dhawan            158.847737\n",
       "BJ Hodge            157.402597\n",
       "AM Rahane           152.985075\n",
       "LRPL Taylor         152.941176\n",
       "KD Karthik          152.051836\n",
       "DPMD Jayawardene    152.032520\n",
       "MK Pandey           151.785714\n",
       "JA Morkel           149.882353\n",
       "JP Faulkner         149.319728\n",
       "S Badrinath         149.116608\n",
       "Y Venugopal Rao     148.846154\n",
       "Harbhajan Singh     147.607656\n",
       "AD Mathews          147.058824\n",
       "KM Jadhav           144.378698\n",
       "STR Binny           144.036697\n",
       "AR Patel            142.794760\n",
       "IK Pathan           142.580645\n",
       "MK Tiwary           140.189125\n",
       "SS Tiwary           136.666667\n",
       "NV Ojha             134.868421\n",
       "RA Jadeja           130.729167\n",
       "PP Chawla           120.257235\n",
       "P Kumar             109.701493\n",
       "R Vinay Kumar       108.936170\n",
       "A Mishra            100.888889\n",
       "Name: batsman_runs, dtype: float64"
      ]
     },
     "execution_count": 57,
     "metadata": {},
     "output_type": "execute_result"
    }
   ],
   "source": [
    "sr.sort_values(ascending=False)"
   ]
  },
  {
   "cell_type": "markdown",
   "id": "01c91f47",
   "metadata": {},
   "source": [
    "# The Merge Function"
   ]
  },
  {
   "cell_type": "code",
   "execution_count": 59,
   "id": "eeb7590c",
   "metadata": {},
   "outputs": [],
   "source": [
    " match = pd.read_csv('matches.csv')"
   ]
  },
  {
   "cell_type": "code",
   "execution_count": 66,
   "id": "238f8cf0",
   "metadata": {},
   "outputs": [],
   "source": [
    "new = delivery.merge(match,left_on='match_id',right_on='id')"
   ]
  },
  {
   "cell_type": "code",
   "execution_count": 79,
   "id": "65b98236",
   "metadata": {},
   "outputs": [
    {
     "data": {
      "text/plain": [
       "season  batsman    \n",
       "2016    V Kohli        973\n",
       "        DA Warner      848\n",
       "2013    MEK Hussey     733\n",
       "2012    CH Gayle       733\n",
       "2013    CH Gayle       720\n",
       "                      ... \n",
       "2017    MM Patel         0\n",
       "2012    AC Blizzard      0\n",
       "2011    AB Dinda         0\n",
       "2017    AD Nath          0\n",
       "2008    L Balaji         0\n",
       "Name: batsman_runs, Length: 1531, dtype: int64"
      ]
     },
     "execution_count": 79,
     "metadata": {},
     "output_type": "execute_result"
    }
   ],
   "source": [
    "#This will give us runs scored by every batsman in every season\n",
    "\n",
    "new.groupby(['season','batsman'])['batsman_runs'].sum().sort_values(ascending=False) #multi-index series"
   ]
  },
  {
   "cell_type": "code",
   "execution_count": 90,
   "id": "ee708485",
   "metadata": {},
   "outputs": [
    {
     "data": {
      "text/html": [
       "<div>\n",
       "<style scoped>\n",
       "    .dataframe tbody tr th:only-of-type {\n",
       "        vertical-align: middle;\n",
       "    }\n",
       "\n",
       "    .dataframe tbody tr th {\n",
       "        vertical-align: top;\n",
       "    }\n",
       "\n",
       "    .dataframe thead th {\n",
       "        text-align: right;\n",
       "    }\n",
       "</style>\n",
       "<table border=\"1\" class=\"dataframe\">\n",
       "  <thead>\n",
       "    <tr style=\"text-align: right;\">\n",
       "      <th></th>\n",
       "      <th>season</th>\n",
       "      <th>batsman</th>\n",
       "      <th>batsman_runs</th>\n",
       "    </tr>\n",
       "  </thead>\n",
       "  <tbody>\n",
       "    <tr>\n",
       "      <th>0</th>\n",
       "      <td>2016</td>\n",
       "      <td>V Kohli</td>\n",
       "      <td>973</td>\n",
       "    </tr>\n",
       "    <tr>\n",
       "      <th>1</th>\n",
       "      <td>2016</td>\n",
       "      <td>DA Warner</td>\n",
       "      <td>848</td>\n",
       "    </tr>\n",
       "    <tr>\n",
       "      <th>2</th>\n",
       "      <td>2013</td>\n",
       "      <td>MEK Hussey</td>\n",
       "      <td>733</td>\n",
       "    </tr>\n",
       "    <tr>\n",
       "      <th>3</th>\n",
       "      <td>2012</td>\n",
       "      <td>CH Gayle</td>\n",
       "      <td>733</td>\n",
       "    </tr>\n",
       "    <tr>\n",
       "      <th>4</th>\n",
       "      <td>2013</td>\n",
       "      <td>CH Gayle</td>\n",
       "      <td>720</td>\n",
       "    </tr>\n",
       "    <tr>\n",
       "      <th>...</th>\n",
       "      <td>...</td>\n",
       "      <td>...</td>\n",
       "      <td>...</td>\n",
       "    </tr>\n",
       "    <tr>\n",
       "      <th>1526</th>\n",
       "      <td>2017</td>\n",
       "      <td>MM Patel</td>\n",
       "      <td>0</td>\n",
       "    </tr>\n",
       "    <tr>\n",
       "      <th>1527</th>\n",
       "      <td>2012</td>\n",
       "      <td>AC Blizzard</td>\n",
       "      <td>0</td>\n",
       "    </tr>\n",
       "    <tr>\n",
       "      <th>1528</th>\n",
       "      <td>2011</td>\n",
       "      <td>AB Dinda</td>\n",
       "      <td>0</td>\n",
       "    </tr>\n",
       "    <tr>\n",
       "      <th>1529</th>\n",
       "      <td>2017</td>\n",
       "      <td>AD Nath</td>\n",
       "      <td>0</td>\n",
       "    </tr>\n",
       "    <tr>\n",
       "      <th>1530</th>\n",
       "      <td>2008</td>\n",
       "      <td>L Balaji</td>\n",
       "      <td>0</td>\n",
       "    </tr>\n",
       "  </tbody>\n",
       "</table>\n",
       "<p>1531 rows × 3 columns</p>\n",
       "</div>"
      ],
      "text/plain": [
       "      season      batsman  batsman_runs\n",
       "0       2016      V Kohli           973\n",
       "1       2016    DA Warner           848\n",
       "2       2013   MEK Hussey           733\n",
       "3       2012     CH Gayle           733\n",
       "4       2013     CH Gayle           720\n",
       "...      ...          ...           ...\n",
       "1526    2017     MM Patel             0\n",
       "1527    2012  AC Blizzard             0\n",
       "1528    2011     AB Dinda             0\n",
       "1529    2017      AD Nath             0\n",
       "1530    2008     L Balaji             0\n",
       "\n",
       "[1531 rows x 3 columns]"
      ]
     },
     "execution_count": 90,
     "metadata": {},
     "output_type": "execute_result"
    }
   ],
   "source": [
    "#turn series into dataframe\n",
    "\n",
    "orange_cap = new.groupby(['season','batsman'])['batsman_runs'].sum().sort_values(ascending=False).reset_index()\n",
    "orange_cap"
   ]
  },
  {
   "cell_type": "code",
   "execution_count": 96,
   "id": "cdd71e54",
   "metadata": {},
   "outputs": [
    {
     "data": {
      "text/html": [
       "<div>\n",
       "<style scoped>\n",
       "    .dataframe tbody tr th:only-of-type {\n",
       "        vertical-align: middle;\n",
       "    }\n",
       "\n",
       "    .dataframe tbody tr th {\n",
       "        vertical-align: top;\n",
       "    }\n",
       "\n",
       "    .dataframe thead th {\n",
       "        text-align: right;\n",
       "    }\n",
       "</style>\n",
       "<table border=\"1\" class=\"dataframe\">\n",
       "  <thead>\n",
       "    <tr style=\"text-align: right;\">\n",
       "      <th></th>\n",
       "      <th>season</th>\n",
       "      <th>batsman</th>\n",
       "    </tr>\n",
       "  </thead>\n",
       "  <tbody>\n",
       "    <tr>\n",
       "      <th>10</th>\n",
       "      <td>2008</td>\n",
       "      <td>SE Marsh</td>\n",
       "    </tr>\n",
       "    <tr>\n",
       "      <th>14</th>\n",
       "      <td>2009</td>\n",
       "      <td>ML Hayden</td>\n",
       "    </tr>\n",
       "    <tr>\n",
       "      <th>9</th>\n",
       "      <td>2010</td>\n",
       "      <td>SR Tendulkar</td>\n",
       "    </tr>\n",
       "    <tr>\n",
       "      <th>11</th>\n",
       "      <td>2011</td>\n",
       "      <td>CH Gayle</td>\n",
       "    </tr>\n",
       "    <tr>\n",
       "      <th>3</th>\n",
       "      <td>2012</td>\n",
       "      <td>CH Gayle</td>\n",
       "    </tr>\n",
       "    <tr>\n",
       "      <th>2</th>\n",
       "      <td>2013</td>\n",
       "      <td>MEK Hussey</td>\n",
       "    </tr>\n",
       "    <tr>\n",
       "      <th>6</th>\n",
       "      <td>2014</td>\n",
       "      <td>RV Uthappa</td>\n",
       "    </tr>\n",
       "    <tr>\n",
       "      <th>17</th>\n",
       "      <td>2015</td>\n",
       "      <td>DA Warner</td>\n",
       "    </tr>\n",
       "    <tr>\n",
       "      <th>0</th>\n",
       "      <td>2016</td>\n",
       "      <td>V Kohli</td>\n",
       "    </tr>\n",
       "    <tr>\n",
       "      <th>7</th>\n",
       "      <td>2017</td>\n",
       "      <td>DA Warner</td>\n",
       "    </tr>\n",
       "  </tbody>\n",
       "</table>\n",
       "</div>"
      ],
      "text/plain": [
       "    season       batsman\n",
       "10    2008      SE Marsh\n",
       "14    2009     ML Hayden\n",
       "9     2010  SR Tendulkar\n",
       "11    2011      CH Gayle\n",
       "3     2012      CH Gayle\n",
       "2     2013    MEK Hussey\n",
       "6     2014    RV Uthappa\n",
       "17    2015     DA Warner\n",
       "0     2016       V Kohli\n",
       "7     2017     DA Warner"
      ]
     },
     "execution_count": 96,
     "metadata": {},
     "output_type": "execute_result"
    }
   ],
   "source": [
    "orange_cap.drop_duplicates(subset='season').sort_values('season')[['season','batsman']]    "
   ]
  },
  {
   "cell_type": "code",
   "execution_count": null,
   "id": "abf059bf",
   "metadata": {},
   "outputs": [],
   "source": []
  }
 ],
 "metadata": {
  "kernelspec": {
   "display_name": "Python 3 (ipykernel)",
   "language": "python",
   "name": "python3"
  },
  "language_info": {
   "codemirror_mode": {
    "name": "ipython",
    "version": 3
   },
   "file_extension": ".py",
   "mimetype": "text/x-python",
   "name": "python",
   "nbconvert_exporter": "python",
   "pygments_lexer": "ipython3",
   "version": "3.11.5"
  }
 },
 "nbformat": 4,
 "nbformat_minor": 5
}
